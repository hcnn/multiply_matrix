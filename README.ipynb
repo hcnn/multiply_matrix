{
 "cells": [
  {
   "cell_type": "markdown",
   "metadata": {},
   "source": [
    "### Matrix Multiplication\n",
    "\n",
    "Let $A \\in\\mathbb{R}^{q \\times r}$,\n",
    "$B \\in \\mathbb{R}^{r \\times s}$, \n",
    "and $C \\in \\mathbb{R}^{q \\times s}$ the result of the matrix multiplication\n",
    "\n",
    "$$\n",
    "C = A \\, B\n",
    "$$"
   ]
  },
  {
   "cell_type": "markdown",
   "metadata": {},
   "source": [
    "### C Implementation"
   ]
  },
  {
   "cell_type": "code",
   "execution_count": 1,
   "metadata": {
    "ExecuteTime": {
     "end_time": "2018-09-03T14:43:22.085564Z",
     "start_time": "2018-09-03T14:43:21.819831Z"
    }
   },
   "outputs": [
    {
     "name": "stdout",
     "output_type": "stream",
     "text": [
      "38 44 50 56 \n",
      "83 98 113 128 \n"
     ]
    }
   ],
   "source": [
    "#include <stddef.h>\n",
    "#include <stdio.h>\n",
    "\n",
    "// row-major order (C uses it by default)\n",
    "size_t rowidx(const size_t i, const size_t j, const size_t numcols){\n",
    "    return i*numcols + j;\n",
    "}\n",
    "\n",
    "\n",
    "// A[rowidx(i,j,r)]\n",
    "// B[rowidx(j,k,s)]\n",
    "// C[rowidx(i,k,s)]\n",
    "void multiply_matrix(const double* A, const double* B, double* C, size_t q, size_t r, size_t s)\n",
    "{\n",
    "    size_t i,j,k;\n",
    "    for(i=0; i<q; i++){\n",
    "        for(k=0; k<s; k++){\n",
    "            C[rowidx(i,k,s)] = 0.0;\n",
    "            for(j=0; j<r; j++){\n",
    "                C[rowidx(i,k,s)] += A[rowidx(i,j,r)] * B[rowidx(j,k,s)];\n",
    "            }\n",
    "        }\n",
    "    }\n",
    "}\n",
    "\n",
    "\n",
    "void print_matrix(const double* A, size_t n, size_t m, const char* format){\n",
    "    size_t i,j;\n",
    "    for(i=0; i<n; i++){\n",
    "        for(j=0; j<m; j++){\n",
    "            printf(format, A[rowidx(i,j,m)] );\n",
    "        }\n",
    "        printf(\"\\n\");\n",
    "    }\n",
    "}\n",
    "\n",
    "\n",
    "int main()\n",
    "{\n",
    "    size_t q = 2;\n",
    "    size_t r = 3;\n",
    "    size_t s = 4;\n",
    "    \n",
    "    \n",
    "    double A[] = {1, 2, 3, 4, 5, 6}; //q*r\n",
    "    double B[] = {1, 2, 3, 4, 5, 6, 7, 8, 9, 10, 11, 12}; //r*s\n",
    "    double C[q*s];\n",
    "    \n",
    "    multiply_matrix(A,B,C, q,r,s);\n",
    "    \n",
    "    print_matrix(C, q, s, \"%.f \");\n",
    "}"
   ]
  }
 ],
 "metadata": {
  "kernelspec": {
   "display_name": "C",
   "language": "c",
   "name": "c"
  },
  "language_info": {
   "file_extension": ".c",
   "mimetype": "text/plain",
   "name": "c"
  },
  "toc": {
   "base_numbering": 1,
   "nav_menu": {},
   "number_sections": true,
   "sideBar": true,
   "skip_h1_title": false,
   "title_cell": "Table of Contents",
   "title_sidebar": "Contents",
   "toc_cell": false,
   "toc_position": {},
   "toc_section_display": true,
   "toc_window_display": false
  },
  "varInspector": {
   "cols": {
    "lenName": 16,
    "lenType": 16,
    "lenVar": 40
   },
   "kernels_config": {
    "python": {
     "delete_cmd_postfix": "",
     "delete_cmd_prefix": "del ",
     "library": "var_list.py",
     "varRefreshCmd": "print(var_dic_list())"
    },
    "r": {
     "delete_cmd_postfix": ") ",
     "delete_cmd_prefix": "rm(",
     "library": "var_list.r",
     "varRefreshCmd": "cat(var_dic_list()) "
    }
   },
   "types_to_exclude": [
    "module",
    "function",
    "builtin_function_or_method",
    "instance",
    "_Feature"
   ],
   "window_display": false
  }
 },
 "nbformat": 4,
 "nbformat_minor": 2
}
